{
  "nbformat": 4,
  "nbformat_minor": 0,
  "metadata": {
    "colab": {
      "name": "linear_regression_scratch.ipynb",
      "provenance": [],
      "collapsed_sections": [],
      "include_colab_link": true
    },
    "kernelspec": {
      "name": "python3",
      "display_name": "Python 3"
    }
  },
  "cells": [
    {
      "cell_type": "markdown",
      "metadata": {
        "id": "view-in-github",
        "colab_type": "text"
      },
      "source": [
        "<a href=\"https://colab.research.google.com/github/vivek87799/linear_regression_scratch/blob/main/linear_regression_scratch.ipynb\" target=\"_parent\"><img src=\"https://colab.research.google.com/assets/colab-badge.svg\" alt=\"Open In Colab\"/></a>"
      ]
    },
    {
      "cell_type": "code",
      "metadata": {
        "id": "aoy-dbYtFd9d"
      },
      "source": [
        "import numpy as np\r\n",
        "from sklearn.datasets import load_boston\r\n",
        "import matplotlib.pyplot as plt\r\n",
        "import pandas as pd"
      ],
      "execution_count": 2,
      "outputs": []
    },
    {
      "cell_type": "markdown",
      "metadata": {
        "id": "hrVT9aHcaluq"
      },
      "source": [
        "https://towardsdatascience.com/difference-between-batch-gradient-descent-and-stochastic-gradient-descent-1187f1291aa1"
      ]
    },
    {
      "cell_type": "markdown",
      "metadata": {
        "id": "mjIttB3QFyEV"
      },
      "source": [
        "# Load Dataset"
      ]
    },
    {
      "cell_type": "code",
      "metadata": {
        "colab": {
          "base_uri": "https://localhost:8080/"
        },
        "id": "RsIt1dpqFyeD",
        "outputId": "333e95b4-0462-4acb-b7da-789915cd9fa6"
      },
      "source": [
        "dataset = load_boston()\r\n",
        "\r\n",
        "X = dataset.data\r\n",
        "y = dataset.target[:,np.newaxis]\r\n",
        "\r\n",
        "print(\"Total samples in our dataset is: {}\".format(X.shape[0]))"
      ],
      "execution_count": 5,
      "outputs": [
        {
          "output_type": "stream",
          "text": [
            "Total samples in our dataset is: 506\n"
          ],
          "name": "stdout"
        }
      ]
    },
    {
      "cell_type": "code",
      "metadata": {
        "colab": {
          "base_uri": "https://localhost:8080/",
          "height": 404
        },
        "id": "R7TdLcplazHb",
        "outputId": "d9958cf4-a58e-4254-95cb-51c43b2c114f"
      },
      "source": [
        "pd.DataFrame(dataset.data, columns=dataset.feature_names)\r\n"
      ],
      "execution_count": 13,
      "outputs": [
        {
          "output_type": "execute_result",
          "data": {
            "text/html": [
              "<div>\n",
              "<style scoped>\n",
              "    .dataframe tbody tr th:only-of-type {\n",
              "        vertical-align: middle;\n",
              "    }\n",
              "\n",
              "    .dataframe tbody tr th {\n",
              "        vertical-align: top;\n",
              "    }\n",
              "\n",
              "    .dataframe thead th {\n",
              "        text-align: right;\n",
              "    }\n",
              "</style>\n",
              "<table border=\"1\" class=\"dataframe\">\n",
              "  <thead>\n",
              "    <tr style=\"text-align: right;\">\n",
              "      <th></th>\n",
              "      <th>CRIM</th>\n",
              "      <th>ZN</th>\n",
              "      <th>INDUS</th>\n",
              "      <th>CHAS</th>\n",
              "      <th>NOX</th>\n",
              "      <th>RM</th>\n",
              "      <th>AGE</th>\n",
              "      <th>DIS</th>\n",
              "      <th>RAD</th>\n",
              "      <th>TAX</th>\n",
              "      <th>PTRATIO</th>\n",
              "      <th>B</th>\n",
              "      <th>LSTAT</th>\n",
              "    </tr>\n",
              "  </thead>\n",
              "  <tbody>\n",
              "    <tr>\n",
              "      <th>0</th>\n",
              "      <td>0.00632</td>\n",
              "      <td>18.0</td>\n",
              "      <td>2.31</td>\n",
              "      <td>0.0</td>\n",
              "      <td>0.538</td>\n",
              "      <td>6.575</td>\n",
              "      <td>65.2</td>\n",
              "      <td>4.0900</td>\n",
              "      <td>1.0</td>\n",
              "      <td>296.0</td>\n",
              "      <td>15.3</td>\n",
              "      <td>396.90</td>\n",
              "      <td>4.98</td>\n",
              "    </tr>\n",
              "    <tr>\n",
              "      <th>1</th>\n",
              "      <td>0.02731</td>\n",
              "      <td>0.0</td>\n",
              "      <td>7.07</td>\n",
              "      <td>0.0</td>\n",
              "      <td>0.469</td>\n",
              "      <td>6.421</td>\n",
              "      <td>78.9</td>\n",
              "      <td>4.9671</td>\n",
              "      <td>2.0</td>\n",
              "      <td>242.0</td>\n",
              "      <td>17.8</td>\n",
              "      <td>396.90</td>\n",
              "      <td>9.14</td>\n",
              "    </tr>\n",
              "    <tr>\n",
              "      <th>2</th>\n",
              "      <td>0.02729</td>\n",
              "      <td>0.0</td>\n",
              "      <td>7.07</td>\n",
              "      <td>0.0</td>\n",
              "      <td>0.469</td>\n",
              "      <td>7.185</td>\n",
              "      <td>61.1</td>\n",
              "      <td>4.9671</td>\n",
              "      <td>2.0</td>\n",
              "      <td>242.0</td>\n",
              "      <td>17.8</td>\n",
              "      <td>392.83</td>\n",
              "      <td>4.03</td>\n",
              "    </tr>\n",
              "    <tr>\n",
              "      <th>3</th>\n",
              "      <td>0.03237</td>\n",
              "      <td>0.0</td>\n",
              "      <td>2.18</td>\n",
              "      <td>0.0</td>\n",
              "      <td>0.458</td>\n",
              "      <td>6.998</td>\n",
              "      <td>45.8</td>\n",
              "      <td>6.0622</td>\n",
              "      <td>3.0</td>\n",
              "      <td>222.0</td>\n",
              "      <td>18.7</td>\n",
              "      <td>394.63</td>\n",
              "      <td>2.94</td>\n",
              "    </tr>\n",
              "    <tr>\n",
              "      <th>4</th>\n",
              "      <td>0.06905</td>\n",
              "      <td>0.0</td>\n",
              "      <td>2.18</td>\n",
              "      <td>0.0</td>\n",
              "      <td>0.458</td>\n",
              "      <td>7.147</td>\n",
              "      <td>54.2</td>\n",
              "      <td>6.0622</td>\n",
              "      <td>3.0</td>\n",
              "      <td>222.0</td>\n",
              "      <td>18.7</td>\n",
              "      <td>396.90</td>\n",
              "      <td>5.33</td>\n",
              "    </tr>\n",
              "    <tr>\n",
              "      <th>...</th>\n",
              "      <td>...</td>\n",
              "      <td>...</td>\n",
              "      <td>...</td>\n",
              "      <td>...</td>\n",
              "      <td>...</td>\n",
              "      <td>...</td>\n",
              "      <td>...</td>\n",
              "      <td>...</td>\n",
              "      <td>...</td>\n",
              "      <td>...</td>\n",
              "      <td>...</td>\n",
              "      <td>...</td>\n",
              "      <td>...</td>\n",
              "    </tr>\n",
              "    <tr>\n",
              "      <th>501</th>\n",
              "      <td>0.06263</td>\n",
              "      <td>0.0</td>\n",
              "      <td>11.93</td>\n",
              "      <td>0.0</td>\n",
              "      <td>0.573</td>\n",
              "      <td>6.593</td>\n",
              "      <td>69.1</td>\n",
              "      <td>2.4786</td>\n",
              "      <td>1.0</td>\n",
              "      <td>273.0</td>\n",
              "      <td>21.0</td>\n",
              "      <td>391.99</td>\n",
              "      <td>9.67</td>\n",
              "    </tr>\n",
              "    <tr>\n",
              "      <th>502</th>\n",
              "      <td>0.04527</td>\n",
              "      <td>0.0</td>\n",
              "      <td>11.93</td>\n",
              "      <td>0.0</td>\n",
              "      <td>0.573</td>\n",
              "      <td>6.120</td>\n",
              "      <td>76.7</td>\n",
              "      <td>2.2875</td>\n",
              "      <td>1.0</td>\n",
              "      <td>273.0</td>\n",
              "      <td>21.0</td>\n",
              "      <td>396.90</td>\n",
              "      <td>9.08</td>\n",
              "    </tr>\n",
              "    <tr>\n",
              "      <th>503</th>\n",
              "      <td>0.06076</td>\n",
              "      <td>0.0</td>\n",
              "      <td>11.93</td>\n",
              "      <td>0.0</td>\n",
              "      <td>0.573</td>\n",
              "      <td>6.976</td>\n",
              "      <td>91.0</td>\n",
              "      <td>2.1675</td>\n",
              "      <td>1.0</td>\n",
              "      <td>273.0</td>\n",
              "      <td>21.0</td>\n",
              "      <td>396.90</td>\n",
              "      <td>5.64</td>\n",
              "    </tr>\n",
              "    <tr>\n",
              "      <th>504</th>\n",
              "      <td>0.10959</td>\n",
              "      <td>0.0</td>\n",
              "      <td>11.93</td>\n",
              "      <td>0.0</td>\n",
              "      <td>0.573</td>\n",
              "      <td>6.794</td>\n",
              "      <td>89.3</td>\n",
              "      <td>2.3889</td>\n",
              "      <td>1.0</td>\n",
              "      <td>273.0</td>\n",
              "      <td>21.0</td>\n",
              "      <td>393.45</td>\n",
              "      <td>6.48</td>\n",
              "    </tr>\n",
              "    <tr>\n",
              "      <th>505</th>\n",
              "      <td>0.04741</td>\n",
              "      <td>0.0</td>\n",
              "      <td>11.93</td>\n",
              "      <td>0.0</td>\n",
              "      <td>0.573</td>\n",
              "      <td>6.030</td>\n",
              "      <td>80.8</td>\n",
              "      <td>2.5050</td>\n",
              "      <td>1.0</td>\n",
              "      <td>273.0</td>\n",
              "      <td>21.0</td>\n",
              "      <td>396.90</td>\n",
              "      <td>7.88</td>\n",
              "    </tr>\n",
              "  </tbody>\n",
              "</table>\n",
              "<p>506 rows × 13 columns</p>\n",
              "</div>"
            ],
            "text/plain": [
              "        CRIM    ZN  INDUS  CHAS    NOX  ...  RAD    TAX  PTRATIO       B  LSTAT\n",
              "0    0.00632  18.0   2.31   0.0  0.538  ...  1.0  296.0     15.3  396.90   4.98\n",
              "1    0.02731   0.0   7.07   0.0  0.469  ...  2.0  242.0     17.8  396.90   9.14\n",
              "2    0.02729   0.0   7.07   0.0  0.469  ...  2.0  242.0     17.8  392.83   4.03\n",
              "3    0.03237   0.0   2.18   0.0  0.458  ...  3.0  222.0     18.7  394.63   2.94\n",
              "4    0.06905   0.0   2.18   0.0  0.458  ...  3.0  222.0     18.7  396.90   5.33\n",
              "..       ...   ...    ...   ...    ...  ...  ...    ...      ...     ...    ...\n",
              "501  0.06263   0.0  11.93   0.0  0.573  ...  1.0  273.0     21.0  391.99   9.67\n",
              "502  0.04527   0.0  11.93   0.0  0.573  ...  1.0  273.0     21.0  396.90   9.08\n",
              "503  0.06076   0.0  11.93   0.0  0.573  ...  1.0  273.0     21.0  396.90   5.64\n",
              "504  0.10959   0.0  11.93   0.0  0.573  ...  1.0  273.0     21.0  393.45   6.48\n",
              "505  0.04741   0.0  11.93   0.0  0.573  ...  1.0  273.0     21.0  396.90   7.88\n",
              "\n",
              "[506 rows x 13 columns]"
            ]
          },
          "metadata": {
            "tags": []
          },
          "execution_count": 13
        }
      ]
    },
    {
      "cell_type": "markdown",
      "metadata": {
        "id": "I9lHk_kpIEgE"
      },
      "source": [
        "# Cost Function\r\n",
        "- We use mean squared error as our cost funciton"
      ]
    },
    {
      "cell_type": "code",
      "metadata": {
        "id": "jCG4ieHzH0KR"
      },
      "source": [
        "def compute_cost(X, y, params):\r\n",
        "    n_samples = len(y)\r\n",
        "    h = X @ params\r\n",
        "    return (1/(2*n_samples))*np.sum((h-y)**2) #loss"
      ],
      "execution_count": null,
      "outputs": []
    },
    {
      "cell_type": "markdown",
      "metadata": {
        "id": "qoVF-4XtI_o0"
      },
      "source": [
        "# Gradient Descent"
      ]
    },
    {
      "cell_type": "code",
      "metadata": {
        "id": "KfA86vXPI5RC"
      },
      "source": [
        "def gradient_descent(X, y, params, learning_rate, n_iters):\r\n",
        "    n_samples = len(y)\r\n",
        "    J_history = np.zeros((n_iters,1))\r\n",
        "\r\n",
        "    for i in range(n_iters):\r\n",
        "        params = params - (learning_rate/n_samples) * X.T @ (X @ params - y) \r\n",
        "        J_history[i] = compute_cost(X, y, params)  \r\n",
        "\r\n",
        "    return (J_history, params)"
      ],
      "execution_count": null,
      "outputs": []
    },
    {
      "cell_type": "code",
      "metadata": {
        "colab": {
          "base_uri": "https://localhost:8080/"
        },
        "id": "GoosA_a1ScQV",
        "outputId": "3109acda-8cc6-47f2-f423-6970c530e8d7"
      },
      "source": [
        "X.shape"
      ],
      "execution_count": null,
      "outputs": [
        {
          "output_type": "execute_result",
          "data": {
            "text/plain": [
              "(506, 13)"
            ]
          },
          "metadata": {
            "tags": []
          },
          "execution_count": 268
        }
      ]
    },
    {
      "cell_type": "markdown",
      "metadata": {
        "id": "SS9fP4ZKJUwL"
      },
      "source": [
        "# Normalize input data"
      ]
    },
    {
      "cell_type": "code",
      "metadata": {
        "id": "xjmeeonUJtJ0"
      },
      "source": [
        "n_samples = len(y)\r\n",
        "\r\n",
        "mu = np.mean(X, 0)\r\n",
        "sigma = np.std(X, 0)\r\n",
        "\r\n",
        "X = (X-mu) / sigma\r\n",
        "\r\n",
        "X = np.hstack((np.ones((n_samples,1)),X))\r\n",
        "n_features = np.size(X,1)\r\n",
        "params = np.zeros((n_features,1))"
      ],
      "execution_count": null,
      "outputs": []
    },
    {
      "cell_type": "code",
      "metadata": {
        "colab": {
          "base_uri": "https://localhost:8080/"
        },
        "id": "rsh4tAi9TtEU",
        "outputId": "34f25030-d911-4074-ecb3-a13fd5f66061"
      },
      "source": [
        "X.shape"
      ],
      "execution_count": null,
      "outputs": [
        {
          "output_type": "execute_result",
          "data": {
            "text/plain": [
              "(506, 14)"
            ]
          },
          "metadata": {
            "tags": []
          },
          "execution_count": 275
        }
      ]
    },
    {
      "cell_type": "code",
      "metadata": {
        "colab": {
          "base_uri": "https://localhost:8080/",
          "height": 613
        },
        "id": "1qazTp9gJxUE",
        "outputId": "b5d3734c-0988-4bb7-8c47-dd4c46d5885e"
      },
      "source": [
        "n_iters = 1500\r\n",
        "learning_rate = 0.01\r\n",
        "\r\n",
        "initial_cost = compute_cost(X, y, params)\r\n",
        "\r\n",
        "print(\"Initial cost is: \", initial_cost, \"\\n\")\r\n",
        "\r\n",
        "(J_history, optimal_params) = gradient_descent(X, y, params, learning_rate, n_iters)\r\n",
        "\r\n",
        "print(\"Optimal parameters are: \\n\", optimal_params, \"\\n\")\r\n",
        "\r\n",
        "print(\"Final cost is: \", J_history[-1])\r\n",
        "\r\n",
        "plt.plot(range(len(J_history)), J_history, 'r')\r\n",
        "\r\n",
        "plt.title(\"Convergence Graph of Cost Function\")\r\n",
        "plt.xlabel(\"Number of Iterations\")\r\n",
        "plt.ylabel(\"Cost\")\r\n",
        "plt.show()"
      ],
      "execution_count": null,
      "outputs": [
        {
          "output_type": "stream",
          "text": [
            "Initial cost is:  296.0734584980237 \n",
            "\n",
            "Optimal parameters are: \n",
            " [[22.53279993]\n",
            " [-0.83980839]\n",
            " [ 0.92612237]\n",
            " [-0.17541988]\n",
            " [ 0.72676226]\n",
            " [-1.82369448]\n",
            " [ 2.78447498]\n",
            " [-0.05650494]\n",
            " [-2.96695543]\n",
            " [ 1.80785186]\n",
            " [-1.1802415 ]\n",
            " [-1.99990382]\n",
            " [ 0.85595908]\n",
            " [-3.69524414]] \n",
            "\n",
            "Final cost is:  [11.00713381]\n"
          ],
          "name": "stdout"
        },
        {
          "output_type": "display_data",
          "data": {
            "image/png": "[encoded data removed]",
            "text/plain": [
              "<Figure size 432x288 with 1 Axes>"
            ]
          },
          "metadata": {
            "tags": [],
            "needs_background": "light"
          }
        }
      ]
    },
    {
      "cell_type": "markdown",
      "metadata": {
        "id": "ziR9NUJlK8v7"
      },
      "source": [
        "# Complete implementation"
      ]
    },
    {
      "cell_type": "code",
      "metadata": {
        "id": "dAEE4-C3K79b"
      },
      "source": [
        "class LinearRegression():\r\n",
        "    def __init__(self, X, y, alpha=0.03, n_iter=1500):\r\n",
        "\r\n",
        "        self.alpha = alpha\r\n",
        "        self.n_iter = n_iter\r\n",
        "        self.n_samples = len(y)\r\n",
        "        self.n_features = np.size(X, 1)\r\n",
        "        #self.X = np.hstack((np.ones(\r\n",
        "        #    (self.n_samples, 1)), (X - np.mean(X, 0)) / np.std(X, 0)))\r\n",
        "        self.X = X\r\n",
        "        self.y = y[:, np.newaxis]\r\n",
        "        self.params = np.zeros((self.n_features + 1, 1))\r\n",
        "        self.coef_ = None\r\n",
        "        self.intercept_ = None\r\n",
        "\r\n",
        "    def fit(self):\r\n",
        "\r\n",
        "        for i in range(self.n_iter):\r\n",
        "            self.params = self.params - (self.alpha/self.n_samples) * \\\r\n",
        "            self.X.T @ (self.X @ self.params - self.y)\r\n",
        "\r\n",
        "        self.intercept_ = self.params[0]\r\n",
        "        self.coef_ = self.params[1:]\r\n",
        "\r\n",
        "        return self\r\n",
        "\r\n",
        "    def score(self, X=None, y=None):\r\n",
        "\r\n",
        "        if X is None:\r\n",
        "            X = self.X\r\n",
        "        else:\r\n",
        "            n_samples = np.size(X, 0)\r\n",
        "            X = np.hstack((np.ones(\r\n",
        "                (n_samples, 1)), (X - np.mean(X, 0)) / np.std(X, 0)))\r\n",
        "\r\n",
        "        if y is None:\r\n",
        "            y = self.y\r\n",
        "        else:\r\n",
        "            y = y[:, np.newaxis]\r\n",
        "\r\n",
        "        y_pred = X @ self.params\r\n",
        "        score = 1 - (((y - y_pred)**2).sum() / ((y - y.mean())**2).sum())\r\n",
        "\r\n",
        "        return score\r\n",
        "\r\n",
        "    def predict(self, X):\r\n",
        "        n_samples = np.size(X, 0)\r\n",
        "        y = np.hstack((np.ones((n_samples, 1)), (X-np.mean(X, 0)) \\\r\n",
        "                            / np.std(X, 0))) @ self.params\r\n",
        "        return y\r\n",
        "\r\n",
        "    def get_params(self):\r\n",
        "\r\n",
        "        return self.params"
      ],
      "execution_count": null,
      "outputs": []
    },
    {
      "cell_type": "markdown",
      "metadata": {
        "id": "zKRQJuQ4A0Hv"
      },
      "source": [
        "# Harish Capgemini task"
      ]
    },
    {
      "cell_type": "code",
      "metadata": {
        "id": "88X1RFYk5Pjk"
      },
      "source": [
        ""
      ],
      "execution_count": null,
      "outputs": []
    },
    {
      "cell_type": "code",
      "metadata": {
        "id": "HCZsuJqPCV7Y"
      },
      "source": [
        "import numpy as np\r\n",
        "import pandas as pd\r\n",
        "import matplotlib.pyplot as plt\r\n",
        "from sklearn.linear_model import LinearRegression\r\n",
        "from sklearn.model_selection import train_test_split\r\n",
        "from sklearn.metrics import accuracy_score, classification_report\r\n",
        "from sklearn.preprocessing import OrdinalEncoder\r\n",
        "from sklearn import preprocessing\r\n",
        "import seaborn as sns"
      ],
      "execution_count": null,
      "outputs": []
    },
    {
      "cell_type": "code",
      "metadata": {
        "colab": {
          "base_uri": "https://localhost:8080/"
        },
        "id": "W1xf8VlRDG1f",
        "outputId": "6874d972-ada0-4c51-b5ab-64576884dd4e"
      },
      "source": [
        "df = pd.read_csv(\"/content/sample_data/movie.csv\", encoding=\"latin-1\")\r\n",
        "df.shape"
      ],
      "execution_count": null,
      "outputs": [
        {
          "output_type": "execute_result",
          "data": {
            "text/plain": [
              "(18166, 14)"
            ]
          },
          "metadata": {
            "tags": []
          },
          "execution_count": 239
        }
      ]
    },
    {
      "cell_type": "code",
      "metadata": {
        "id": "zMFWm7w0DmFQ"
      },
      "source": [
        "# Remove null values from duration_in_min and generes\r\n",
        "data_set = df[df[\"duration_in_min\"].notna()].copy()\r\n",
        "data_set = data_set[data_set[\"genres\"].notna()].copy()\r\n",
        "# data_set = data_set[data_set[\"primaryprofession\"].notna()].copy()\r\n",
        "# Encoding of features with characters\r\n",
        "ord_enc = OrdinalEncoder()\r\n",
        "data_set[\"region_encode\"] = ord_enc.fit_transform(data_set[[\"region\"]])\r\n",
        "data_set[\"genres_encode\"] = ord_enc.fit_transform(data_set[[\"genres\"]])\r\n",
        "data_set[\"role_encode\"] = ord_enc.fit_transform(data_set[[\"role\"]])\r\n",
        "# data_set[\"primaryprofession_encode\"] = ord_enc.fit_transform(data_set[[\"primaryprofession\"]])"
      ],
      "execution_count": null,
      "outputs": []
    },
    {
      "cell_type": "code",
      "metadata": {
        "colab": {
          "base_uri": "https://localhost:8080/",
          "height": 427
        },
        "id": "3A1HqAy53lwc",
        "outputId": "cabc0f1d-46ec-4183-e76e-a00c244500cd"
      },
      "source": [
        "data_set_before_normalize_1 = data_set[[\"region_encode\", \"release_year\", \"duration_in_min\",\t\"genres_encode\",\t\"numvotes\", \"role_encode\",\"rating\"]]\r\n",
        "data_set_before_normalize_1 = data_set_before_normalize_1.reset_index()\r\n",
        "data_set_before_normalize_1.drop(['index'],axis=1,inplace=True)\r\n",
        "data_set_before_normalize_1"
      ],
      "execution_count": null,
      "outputs": [
        {
          "output_type": "execute_result",
          "data": {
            "text/html": [
              "<div>\n",
              "<style scoped>\n",
              "    .dataframe tbody tr th:only-of-type {\n",
              "        vertical-align: middle;\n",
              "    }\n",
              "\n",
              "    .dataframe tbody tr th {\n",
              "        vertical-align: top;\n",
              "    }\n",
              "\n",
              "    .dataframe thead th {\n",
              "        text-align: right;\n",
              "    }\n",
              "</style>\n",
              "<table border=\"1\" class=\"dataframe\">\n",
              "  <thead>\n",
              "    <tr style=\"text-align: right;\">\n",
              "      <th></th>\n",
              "      <th>region_encode</th>\n",
              "      <th>release_year</th>\n",
              "      <th>duration_in_min</th>\n",
              "      <th>genres_encode</th>\n",
              "      <th>numvotes</th>\n",
              "      <th>role_encode</th>\n",
              "      <th>rating</th>\n",
              "    </tr>\n",
              "  </thead>\n",
              "  <tbody>\n",
              "    <tr>\n",
              "      <th>0</th>\n",
              "      <td>9.0</td>\n",
              "      <td>1915</td>\n",
              "      <td>50.0</td>\n",
              "      <td>484.0</td>\n",
              "      <td>8</td>\n",
              "      <td>1.0</td>\n",
              "      <td>6.5</td>\n",
              "    </tr>\n",
              "    <tr>\n",
              "      <th>1</th>\n",
              "      <td>20.0</td>\n",
              "      <td>1915</td>\n",
              "      <td>50.0</td>\n",
              "      <td>517.0</td>\n",
              "      <td>9</td>\n",
              "      <td>0.0</td>\n",
              "      <td>7.3</td>\n",
              "    </tr>\n",
              "    <tr>\n",
              "      <th>2</th>\n",
              "      <td>9.0</td>\n",
              "      <td>1917</td>\n",
              "      <td>60.0</td>\n",
              "      <td>423.0</td>\n",
              "      <td>16</td>\n",
              "      <td>0.0</td>\n",
              "      <td>6.8</td>\n",
              "    </tr>\n",
              "    <tr>\n",
              "      <th>3</th>\n",
              "      <td>20.0</td>\n",
              "      <td>1917</td>\n",
              "      <td>56.0</td>\n",
              "      <td>601.0</td>\n",
              "      <td>71</td>\n",
              "      <td>0.0</td>\n",
              "      <td>5.5</td>\n",
              "    </tr>\n",
              "    <tr>\n",
              "      <th>4</th>\n",
              "      <td>8.0</td>\n",
              "      <td>1918</td>\n",
              "      <td>60.0</td>\n",
              "      <td>262.0</td>\n",
              "      <td>9</td>\n",
              "      <td>1.0</td>\n",
              "      <td>6.9</td>\n",
              "    </tr>\n",
              "    <tr>\n",
              "      <th>...</th>\n",
              "      <td>...</td>\n",
              "      <td>...</td>\n",
              "      <td>...</td>\n",
              "      <td>...</td>\n",
              "      <td>...</td>\n",
              "      <td>...</td>\n",
              "      <td>...</td>\n",
              "    </tr>\n",
              "    <tr>\n",
              "      <th>16816</th>\n",
              "      <td>3.0</td>\n",
              "      <td>1997</td>\n",
              "      <td>92.0</td>\n",
              "      <td>278.0</td>\n",
              "      <td>91</td>\n",
              "      <td>0.0</td>\n",
              "      <td>5.5</td>\n",
              "    </tr>\n",
              "    <tr>\n",
              "      <th>16817</th>\n",
              "      <td>9.0</td>\n",
              "      <td>1985</td>\n",
              "      <td>91.0</td>\n",
              "      <td>413.0</td>\n",
              "      <td>1245</td>\n",
              "      <td>0.0</td>\n",
              "      <td>3.0</td>\n",
              "    </tr>\n",
              "    <tr>\n",
              "      <th>16818</th>\n",
              "      <td>20.0</td>\n",
              "      <td>1941</td>\n",
              "      <td>90.0</td>\n",
              "      <td>399.0</td>\n",
              "      <td>21</td>\n",
              "      <td>0.0</td>\n",
              "      <td>8.7</td>\n",
              "    </tr>\n",
              "    <tr>\n",
              "      <th>16819</th>\n",
              "      <td>20.0</td>\n",
              "      <td>1959</td>\n",
              "      <td>85.0</td>\n",
              "      <td>360.0</td>\n",
              "      <td>78</td>\n",
              "      <td>1.0</td>\n",
              "      <td>5.9</td>\n",
              "    </tr>\n",
              "    <tr>\n",
              "      <th>16820</th>\n",
              "      <td>23.0</td>\n",
              "      <td>1973</td>\n",
              "      <td>77.0</td>\n",
              "      <td>424.0</td>\n",
              "      <td>5</td>\n",
              "      <td>1.0</td>\n",
              "      <td>5.0</td>\n",
              "    </tr>\n",
              "  </tbody>\n",
              "</table>\n",
              "<p>16821 rows × 7 columns</p>\n",
              "</div>"
            ],
            "text/plain": [
              "       region_encode  release_year  ...  role_encode  rating\n",
              "0                9.0          1915  ...          1.0     6.5\n",
              "1               20.0          1915  ...          0.0     7.3\n",
              "2                9.0          1917  ...          0.0     6.8\n",
              "3               20.0          1917  ...          0.0     5.5\n",
              "4                8.0          1918  ...          1.0     6.9\n",
              "...              ...           ...  ...          ...     ...\n",
              "16816            3.0          1997  ...          0.0     5.5\n",
              "16817            9.0          1985  ...          0.0     3.0\n",
              "16818           20.0          1941  ...          0.0     8.7\n",
              "16819           20.0          1959  ...          1.0     5.9\n",
              "16820           23.0          1973  ...          1.0     5.0\n",
              "\n",
              "[16821 rows x 7 columns]"
            ]
          },
          "metadata": {
            "tags": []
          },
          "execution_count": 241
        }
      ]
    },
    {
      "cell_type": "code",
      "metadata": {
        "id": "Fa0GSPOFHuYm"
      },
      "source": [
        "features = [\"release_year\", \"duration_in_min\",\"numvotes\"]\r\n",
        "data_set_before_normalize_1[[\"release_year\", \"duration_in_min\",\"numvotes\"]] = min_max_scaler.fit_transform(data_set_before_normalize_1[[\"release_year\", \"duration_in_min\",\"numvotes\"]])"
      ],
      "execution_count": null,
      "outputs": []
    },
    {
      "cell_type": "code",
      "metadata": {
        "id": "zD8O8iGXJhG2"
      },
      "source": [
        "\r\n",
        "# Extract missing ratings as they are to be tested (Test Data)\r\n",
        "train_data_set = data_set_before_normalize_1[data_set_before_normalize_1[\"rating\"].notna()].copy()\r\n",
        "test_data_set = data_set_before_normalize_1[data_set_before_normalize_1[\"rating\"].isna()].copy()"
      ],
      "execution_count": null,
      "outputs": []
    },
    {
      "cell_type": "code",
      "metadata": {
        "id": "_osG4bFlRcuY"
      },
      "source": [
        "# Normalize the dataset \r\n",
        "data_set_before_normalize_1 = data_set[[\"region_encode\", \"release_year\", \"duration_in_min\",\t\"genres_encode\",\t\"numvotes\",\t\"primary_name_encode\", \"role_encode\"]]\r\n",
        "data_set_before_normalize_2 = data_set[[\"region_encode\",  \"genres_encode\", \"primary_name_encode\", \"role_encode\"]]\r\n",
        "data_set_before_normalize_3 = data_set[[\"release_year\", \"duration_in_min\",\"numvotes\",]]\r\n",
        "min_max_scaler = preprocessing.MinMaxScaler()\r\n",
        "data_set_normalized = min_max_scaler.fit_transform(data_set_before_normalize_1)\r\n",
        "data_set_normalized_df = pd.DataFrame(data_set_normalized,columns=data_set_before_normalize_1.columns)"
      ],
      "execution_count": null,
      "outputs": []
    },
    {
      "cell_type": "code",
      "metadata": {
        "id": "i7DhkLMLL_7Z"
      },
      "source": [
        "# Extract missing ratings as they are to be tested (Test Data)\r\n",
        "train_data_set = data_set[data_set[\"rating\"].notna()].copy()\r\n",
        "test_data_set = data_set[data_set[\"rating\"].isna()].copy()"
      ],
      "execution_count": null,
      "outputs": []
    },
    {
      "cell_type": "code",
      "metadata": {
        "id": "ziPM3GroFtKx"
      },
      "source": [
        "Y = pd.DataFrame(train_data_set.rating)\r\n",
        "X = train_data_set.drop(['rating'],axis=1)\r\n",
        "(trainx,testx,trainy,testy) =  train_test_split(X,Y,test_size=0.30)\r\n"
      ],
      "execution_count": null,
      "outputs": []
    },
    {
      "cell_type": "code",
      "metadata": {
        "colab": {
          "base_uri": "https://localhost:8080/"
        },
        "id": "oTfyE-3sLTq5",
        "outputId": "f49b9ea5-bde3-430d-d021-31f3f406fa8c"
      },
      "source": [
        "trainx.shape\r\n",
        "testx.shape"
      ],
      "execution_count": null,
      "outputs": [
        {
          "output_type": "execute_result",
          "data": {
            "text/plain": [
              "(5019, 6)"
            ]
          },
          "metadata": {
            "tags": []
          },
          "execution_count": 206
        }
      ]
    },
    {
      "cell_type": "code",
      "metadata": {
        "colab": {
          "base_uri": "https://localhost:8080/"
        },
        "id": "dxHCHh62LcdA",
        "outputId": "6bee201a-4d41-4933-f778-20632b546a55"
      },
      "source": [
        "lin = LinearRegression()\r\n",
        "lin.fit(trainx,trainy)\r\n"
      ],
      "execution_count": null,
      "outputs": [
        {
          "output_type": "execute_result",
          "data": {
            "text/plain": [
              "LinearRegression(copy_X=True, fit_intercept=True, n_jobs=None, normalize=False)"
            ]
          },
          "metadata": {
            "tags": []
          },
          "execution_count": 207
        }
      ]
    },
    {
      "cell_type": "code",
      "metadata": {
        "id": "xDNozmHFL1mc"
      },
      "source": [
        "y_pred = lin.predict(testx)"
      ],
      "execution_count": null,
      "outputs": []
    },
    {
      "cell_type": "code",
      "metadata": {
        "colab": {
          "base_uri": "https://localhost:8080/"
        },
        "id": "EZ1Pna8aObxw",
        "outputId": "e54ed403-6e59-4aef-8a74-90be70a3e9ac"
      },
      "source": [
        "len(y_pred)"
      ],
      "execution_count": null,
      "outputs": [
        {
          "output_type": "execute_result",
          "data": {
            "text/plain": [
              "5019"
            ]
          },
          "metadata": {
            "tags": []
          },
          "execution_count": 230
        }
      ]
    },
    {
      "cell_type": "code",
      "metadata": {
        "colab": {
          "base_uri": "https://localhost:8080/",
          "height": 486
        },
        "id": "miYs8-yFOPg8",
        "outputId": "7f4ba47e-e867-48df-91a3-e8ef4cbcb3f1"
      },
      "source": [
        "testy.drop(['predicted','predicted1'],axis=1,inplace=True)\r\n",
        "testy"
      ],
      "execution_count": null,
      "outputs": [
        {
          "output_type": "stream",
          "text": [
            "/usr/local/lib/python3.7/dist-packages/pandas/core/frame.py:4174: SettingWithCopyWarning: \n",
            "A value is trying to be set on a copy of a slice from a DataFrame\n",
            "\n",
            "See the caveats in the documentation: https://pandas.pydata.org/pandas-docs/stable/user_guide/indexing.html#returning-a-view-versus-a-copy\n",
            "  errors=errors,\n"
          ],
          "name": "stderr"
        },
        {
          "output_type": "execute_result",
          "data": {
            "text/html": [
              "<div>\n",
              "<style scoped>\n",
              "    .dataframe tbody tr th:only-of-type {\n",
              "        vertical-align: middle;\n",
              "    }\n",
              "\n",
              "    .dataframe tbody tr th {\n",
              "        vertical-align: top;\n",
              "    }\n",
              "\n",
              "    .dataframe thead th {\n",
              "        text-align: right;\n",
              "    }\n",
              "</style>\n",
              "<table border=\"1\" class=\"dataframe\">\n",
              "  <thead>\n",
              "    <tr style=\"text-align: right;\">\n",
              "      <th></th>\n",
              "      <th>rating</th>\n",
              "    </tr>\n",
              "  </thead>\n",
              "  <tbody>\n",
              "    <tr>\n",
              "      <th>9080</th>\n",
              "      <td>6.6</td>\n",
              "    </tr>\n",
              "    <tr>\n",
              "      <th>16008</th>\n",
              "      <td>6.8</td>\n",
              "    </tr>\n",
              "    <tr>\n",
              "      <th>15444</th>\n",
              "      <td>6.6</td>\n",
              "    </tr>\n",
              "    <tr>\n",
              "      <th>12917</th>\n",
              "      <td>5.3</td>\n",
              "    </tr>\n",
              "    <tr>\n",
              "      <th>13623</th>\n",
              "      <td>6.1</td>\n",
              "    </tr>\n",
              "    <tr>\n",
              "      <th>...</th>\n",
              "      <td>...</td>\n",
              "    </tr>\n",
              "    <tr>\n",
              "      <th>14303</th>\n",
              "      <td>5.4</td>\n",
              "    </tr>\n",
              "    <tr>\n",
              "      <th>13859</th>\n",
              "      <td>6.1</td>\n",
              "    </tr>\n",
              "    <tr>\n",
              "      <th>8495</th>\n",
              "      <td>5.8</td>\n",
              "    </tr>\n",
              "    <tr>\n",
              "      <th>12272</th>\n",
              "      <td>5.0</td>\n",
              "    </tr>\n",
              "    <tr>\n",
              "      <th>15684</th>\n",
              "      <td>7.4</td>\n",
              "    </tr>\n",
              "  </tbody>\n",
              "</table>\n",
              "<p>5019 rows × 1 columns</p>\n",
              "</div>"
            ],
            "text/plain": [
              "       rating\n",
              "9080      6.6\n",
              "16008     6.8\n",
              "15444     6.6\n",
              "12917     5.3\n",
              "13623     6.1\n",
              "...       ...\n",
              "14303     5.4\n",
              "13859     6.1\n",
              "8495      5.8\n",
              "12272     5.0\n",
              "15684     7.4\n",
              "\n",
              "[5019 rows x 1 columns]"
            ]
          },
          "metadata": {
            "tags": []
          },
          "execution_count": 229
        }
      ]
    },
    {
      "cell_type": "code",
      "metadata": {
        "colab": {
          "base_uri": "https://localhost:8080/"
        },
        "id": "4NmMKl2iOktf",
        "outputId": "b90ab641-c03e-4163-8f87-eabf98749c3c"
      },
      "source": [
        "from sklearn import metrics\r\n",
        "print('Mean Absolute Error:', metrics.mean_absolute_error(testy, y_pred))\r\n",
        "print('Mean Absolute Error:', metrics.mean_absolute_error(testy, y_pred))\r\n",
        "print('Mean Squared Error:', metrics.mean_squared_error(testy, y_pred))\r\n",
        "print('Root Mean Squared Error:', np.sqrt(metrics.mean_squared_error(testy, y_pred)))"
      ],
      "execution_count": null,
      "outputs": [
        {
          "output_type": "stream",
          "text": [
            "Mean Absolute Error: 0.8208428188767563\n",
            "Mean Absolute Error: 0.8208428188767563\n",
            "Mean Squared Error: 1.1121867255341567\n",
            "Root Mean Squared Error: 1.0546026386910647\n"
          ],
          "name": "stdout"
        }
      ]
    },
    {
      "cell_type": "code",
      "metadata": {
        "colab": {
          "base_uri": "https://localhost:8080/",
          "height": 295
        },
        "id": "OopZRvqGO2oC",
        "outputId": "01f354a5-4790-4a8a-d860-41159fc8499a"
      },
      "source": [
        "import matplotlib.pyplot as plt\r\n",
        "\r\n",
        "plt.plot(testy,y_pred)\r\n",
        "plt.title('title name')\r\n",
        "plt.xlabel('xAxis name')\r\n",
        "plt.ylabel('yAxis name')\r\n",
        "plt.show()"
      ],
      "execution_count": null,
      "outputs": [
        {
          "output_type": "display_data",
          "data": {
            "image/png": "[encoded data removed]",
            "text/plain": [
              "<Figure size 432x288 with 1 Axes>"
            ]
          },
          "metadata": {
            "tags": [],
            "needs_background": "light"
          }
        }
      ]
    },
    {
      "cell_type": "code",
      "metadata": {
        "colab": {
          "base_uri": "https://localhost:8080/"
        },
        "id": "TX-IIxweMopR",
        "outputId": "f73a05f1-f5f3-4b36-f335-03440038a359"
      },
      "source": [
        "from sklearn import metrics\r\n",
        "print('Mean Absolute Error:', metrics.mean_absolute_error(y_test, y_pred))\r\n",
        "print('Mean Squared Error:', metrics.mean_squared_error(y_test, y_pred))\r\n",
        "print('Root Mean Squared Error:', np.sqrt(metrics.mean_squared_error(y_test, y_pred)))"
      ],
      "execution_count": null,
      "outputs": [
        {
          "output_type": "stream",
          "text": [
            "/usr/local/lib/python3.7/dist-packages/ipykernel_launcher.py:1: SettingWithCopyWarning: \n",
            "A value is trying to be set on a copy of a slice from a DataFrame.\n",
            "Try using .loc[row_indexer,col_indexer] = value instead\n",
            "\n",
            "See the caveats in the documentation: https://pandas.pydata.org/pandas-docs/stable/user_guide/indexing.html#returning-a-view-versus-a-copy\n",
            "  \"\"\"Entry point for launching an IPython kernel.\n"
          ],
          "name": "stderr"
        }
      ]
    },
    {
      "cell_type": "code",
      "metadata": {
        "colab": {
          "base_uri": "https://localhost:8080/",
          "height": 421
        },
        "id": "MfJQWHVJMK87",
        "outputId": "3f33f247-7ba9-4790-b590-dd7201215350"
      },
      "source": [
        " data = pd.DataFrame()\r\n",
        "data['actual'] = testy\r\n",
        "data['predicted'] = y_pred\r\n",
        "data"
      ],
      "execution_count": null,
      "outputs": [
        {
          "output_type": "error",
          "ename": "ValueError",
          "evalue": "ignored",
          "traceback": [
            "\u001b[0;31m---------------------------------------------------------------------------\u001b[0m",
            "\u001b[0;31mValueError\u001b[0m                                Traceback (most recent call last)",
            "\u001b[0;32m/usr/local/lib/python3.7/dist-packages/pandas/core/frame.py\u001b[0m in \u001b[0;36m_ensure_valid_index\u001b[0;34m(self, value)\u001b[0m\n\u001b[1;32m   3169\u001b[0m             \u001b[0;32mtry\u001b[0m\u001b[0;34m:\u001b[0m\u001b[0;34m\u001b[0m\u001b[0;34m\u001b[0m\u001b[0m\n\u001b[0;32m-> 3170\u001b[0;31m                 \u001b[0mvalue\u001b[0m \u001b[0;34m=\u001b[0m \u001b[0mSeries\u001b[0m\u001b[0;34m(\u001b[0m\u001b[0mvalue\u001b[0m\u001b[0;34m)\u001b[0m\u001b[0;34m\u001b[0m\u001b[0;34m\u001b[0m\u001b[0m\n\u001b[0m\u001b[1;32m   3171\u001b[0m             \u001b[0;32mexcept\u001b[0m \u001b[0;34m(\u001b[0m\u001b[0mValueError\u001b[0m\u001b[0;34m,\u001b[0m \u001b[0mNotImplementedError\u001b[0m\u001b[0;34m,\u001b[0m \u001b[0mTypeError\u001b[0m\u001b[0;34m)\u001b[0m \u001b[0;32mas\u001b[0m \u001b[0merr\u001b[0m\u001b[0;34m:\u001b[0m\u001b[0;34m\u001b[0m\u001b[0;34m\u001b[0m\u001b[0m\n",
            "\u001b[0;32m/usr/local/lib/python3.7/dist-packages/pandas/core/series.py\u001b[0m in \u001b[0;36m__init__\u001b[0;34m(self, data, index, dtype, name, copy, fastpath)\u001b[0m\n\u001b[1;32m    230\u001b[0m \u001b[0;34m\u001b[0m\u001b[0m\n\u001b[0;32m--> 231\u001b[0;31m             \u001b[0;32mif\u001b[0m \u001b[0mis_empty_data\u001b[0m\u001b[0;34m(\u001b[0m\u001b[0mdata\u001b[0m\u001b[0;34m)\u001b[0m \u001b[0;32mand\u001b[0m \u001b[0mdtype\u001b[0m \u001b[0;32mis\u001b[0m \u001b[0;32mNone\u001b[0m\u001b[0;34m:\u001b[0m\u001b[0;34m\u001b[0m\u001b[0;34m\u001b[0m\u001b[0m\n\u001b[0m\u001b[1;32m    232\u001b[0m                 \u001b[0;31m# gh-17261\u001b[0m\u001b[0;34m\u001b[0m\u001b[0;34m\u001b[0m\u001b[0;34m\u001b[0m\u001b[0m\n",
            "\u001b[0;32m/usr/local/lib/python3.7/dist-packages/pandas/core/construction.py\u001b[0m in \u001b[0;36mis_empty_data\u001b[0;34m(data)\u001b[0m\n\u001b[1;32m    595\u001b[0m     \u001b[0mis_list_like_without_dtype\u001b[0m \u001b[0;34m=\u001b[0m \u001b[0mis_list_like\u001b[0m\u001b[0;34m(\u001b[0m\u001b[0mdata\u001b[0m\u001b[0;34m)\u001b[0m \u001b[0;32mand\u001b[0m \u001b[0;32mnot\u001b[0m \u001b[0mhasattr\u001b[0m\u001b[0;34m(\u001b[0m\u001b[0mdata\u001b[0m\u001b[0;34m,\u001b[0m \u001b[0;34m\"dtype\"\u001b[0m\u001b[0;34m)\u001b[0m\u001b[0;34m\u001b[0m\u001b[0;34m\u001b[0m\u001b[0m\n\u001b[0;32m--> 596\u001b[0;31m     \u001b[0mis_simple_empty\u001b[0m \u001b[0;34m=\u001b[0m \u001b[0mis_list_like_without_dtype\u001b[0m \u001b[0;32mand\u001b[0m \u001b[0;32mnot\u001b[0m \u001b[0mdata\u001b[0m\u001b[0;34m\u001b[0m\u001b[0;34m\u001b[0m\u001b[0m\n\u001b[0m\u001b[1;32m    597\u001b[0m     \u001b[0;32mreturn\u001b[0m \u001b[0mis_none\u001b[0m \u001b[0;32mor\u001b[0m \u001b[0mis_simple_empty\u001b[0m\u001b[0;34m\u001b[0m\u001b[0;34m\u001b[0m\u001b[0m\n",
            "\u001b[0;32m/usr/local/lib/python3.7/dist-packages/pandas/core/generic.py\u001b[0m in \u001b[0;36m__nonzero__\u001b[0;34m(self)\u001b[0m\n\u001b[1;32m   1329\u001b[0m         raise ValueError(\n\u001b[0;32m-> 1330\u001b[0;31m             \u001b[0;34mf\"The truth value of a {type(self).__name__} is ambiguous. \"\u001b[0m\u001b[0;34m\u001b[0m\u001b[0;34m\u001b[0m\u001b[0m\n\u001b[0m\u001b[1;32m   1331\u001b[0m             \u001b[0;34m\"Use a.empty, a.bool(), a.item(), a.any() or a.all().\"\u001b[0m\u001b[0;34m\u001b[0m\u001b[0;34m\u001b[0m\u001b[0m\n",
            "\u001b[0;31mValueError\u001b[0m: The truth value of a DataFrame is ambiguous. Use a.empty, a.bool(), a.item(), a.any() or a.all().",
            "\nThe above exception was the direct cause of the following exception:\n",
            "\u001b[0;31mValueError\u001b[0m                                Traceback (most recent call last)",
            "\u001b[0;32m<ipython-input-212-2fb9497a7eaf>\u001b[0m in \u001b[0;36m<module>\u001b[0;34m()\u001b[0m\n\u001b[1;32m      1\u001b[0m \u001b[0mdata\u001b[0m \u001b[0;34m=\u001b[0m \u001b[0mpd\u001b[0m\u001b[0;34m.\u001b[0m\u001b[0mDataFrame\u001b[0m\u001b[0;34m(\u001b[0m\u001b[0;34m)\u001b[0m\u001b[0;34m\u001b[0m\u001b[0;34m\u001b[0m\u001b[0m\n\u001b[0;32m----> 2\u001b[0;31m \u001b[0mdata\u001b[0m\u001b[0;34m[\u001b[0m\u001b[0;34m'actual'\u001b[0m\u001b[0;34m]\u001b[0m \u001b[0;34m=\u001b[0m \u001b[0mtesty\u001b[0m\u001b[0;34m\u001b[0m\u001b[0;34m\u001b[0m\u001b[0m\n\u001b[0m\u001b[1;32m      3\u001b[0m \u001b[0mdata\u001b[0m\u001b[0;34m[\u001b[0m\u001b[0;34m'predicted'\u001b[0m\u001b[0;34m]\u001b[0m \u001b[0;34m=\u001b[0m \u001b[0my_pred\u001b[0m\u001b[0;34m\u001b[0m\u001b[0;34m\u001b[0m\u001b[0m\n\u001b[1;32m      4\u001b[0m \u001b[0mdata\u001b[0m\u001b[0;34m\u001b[0m\u001b[0;34m\u001b[0m\u001b[0m\n",
            "\u001b[0;32m/usr/local/lib/python3.7/dist-packages/pandas/core/frame.py\u001b[0m in \u001b[0;36m__setitem__\u001b[0;34m(self, key, value)\u001b[0m\n\u001b[1;32m   3042\u001b[0m         \u001b[0;32melse\u001b[0m\u001b[0;34m:\u001b[0m\u001b[0;34m\u001b[0m\u001b[0;34m\u001b[0m\u001b[0m\n\u001b[1;32m   3043\u001b[0m             \u001b[0;31m# set column\u001b[0m\u001b[0;34m\u001b[0m\u001b[0;34m\u001b[0m\u001b[0;34m\u001b[0m\u001b[0m\n\u001b[0;32m-> 3044\u001b[0;31m             \u001b[0mself\u001b[0m\u001b[0;34m.\u001b[0m\u001b[0m_set_item\u001b[0m\u001b[0;34m(\u001b[0m\u001b[0mkey\u001b[0m\u001b[0;34m,\u001b[0m \u001b[0mvalue\u001b[0m\u001b[0;34m)\u001b[0m\u001b[0;34m\u001b[0m\u001b[0;34m\u001b[0m\u001b[0m\n\u001b[0m\u001b[1;32m   3045\u001b[0m \u001b[0;34m\u001b[0m\u001b[0m\n\u001b[1;32m   3046\u001b[0m     \u001b[0;32mdef\u001b[0m \u001b[0m_setitem_slice\u001b[0m\u001b[0;34m(\u001b[0m\u001b[0mself\u001b[0m\u001b[0;34m,\u001b[0m \u001b[0mkey\u001b[0m\u001b[0;34m:\u001b[0m \u001b[0mslice\u001b[0m\u001b[0;34m,\u001b[0m \u001b[0mvalue\u001b[0m\u001b[0;34m)\u001b[0m\u001b[0;34m:\u001b[0m\u001b[0;34m\u001b[0m\u001b[0;34m\u001b[0m\u001b[0m\n",
            "\u001b[0;32m/usr/local/lib/python3.7/dist-packages/pandas/core/frame.py\u001b[0m in \u001b[0;36m_set_item\u001b[0;34m(self, key, value)\u001b[0m\n\u001b[1;32m   3117\u001b[0m         \u001b[0mensure\u001b[0m \u001b[0mhomogeneity\u001b[0m\u001b[0;34m.\u001b[0m\u001b[0;34m\u001b[0m\u001b[0;34m\u001b[0m\u001b[0m\n\u001b[1;32m   3118\u001b[0m         \"\"\"\n\u001b[0;32m-> 3119\u001b[0;31m         \u001b[0mself\u001b[0m\u001b[0;34m.\u001b[0m\u001b[0m_ensure_valid_index\u001b[0m\u001b[0;34m(\u001b[0m\u001b[0mvalue\u001b[0m\u001b[0;34m)\u001b[0m\u001b[0;34m\u001b[0m\u001b[0;34m\u001b[0m\u001b[0m\n\u001b[0m\u001b[1;32m   3120\u001b[0m         \u001b[0mvalue\u001b[0m \u001b[0;34m=\u001b[0m \u001b[0mself\u001b[0m\u001b[0;34m.\u001b[0m\u001b[0m_sanitize_column\u001b[0m\u001b[0;34m(\u001b[0m\u001b[0mkey\u001b[0m\u001b[0;34m,\u001b[0m \u001b[0mvalue\u001b[0m\u001b[0;34m)\u001b[0m\u001b[0;34m\u001b[0m\u001b[0;34m\u001b[0m\u001b[0m\n\u001b[1;32m   3121\u001b[0m         \u001b[0mNDFrame\u001b[0m\u001b[0;34m.\u001b[0m\u001b[0m_set_item\u001b[0m\u001b[0;34m(\u001b[0m\u001b[0mself\u001b[0m\u001b[0;34m,\u001b[0m \u001b[0mkey\u001b[0m\u001b[0;34m,\u001b[0m \u001b[0mvalue\u001b[0m\u001b[0;34m)\u001b[0m\u001b[0;34m\u001b[0m\u001b[0;34m\u001b[0m\u001b[0m\n",
            "\u001b[0;32m/usr/local/lib/python3.7/dist-packages/pandas/core/frame.py\u001b[0m in \u001b[0;36m_ensure_valid_index\u001b[0;34m(self, value)\u001b[0m\n\u001b[1;32m   3173\u001b[0m                     \u001b[0;34m\"Cannot set a frame with no defined index \"\u001b[0m\u001b[0;34m\u001b[0m\u001b[0;34m\u001b[0m\u001b[0m\n\u001b[1;32m   3174\u001b[0m                     \u001b[0;34m\"and a value that cannot be converted to a Series\"\u001b[0m\u001b[0;34m\u001b[0m\u001b[0;34m\u001b[0m\u001b[0m\n\u001b[0;32m-> 3175\u001b[0;31m                 ) from err\n\u001b[0m\u001b[1;32m   3176\u001b[0m \u001b[0;34m\u001b[0m\u001b[0m\n\u001b[1;32m   3177\u001b[0m             \u001b[0;31m# GH31368 preserve name of index\u001b[0m\u001b[0;34m\u001b[0m\u001b[0;34m\u001b[0m\u001b[0;34m\u001b[0m\u001b[0m\n",
            "\u001b[0;31mValueError\u001b[0m: Cannot set a frame with no defined index and a value that cannot be converted to a Series"
          ]
        }
      ]
    },
    {
      "cell_type": "code",
      "metadata": {
        "id": "aTSpnzb9Ldk8"
      },
      "source": [
        "lin_score_train = lin.score(trainx,trainy)\r\n",
        "lin_score_test = lin.score(testx,testy)\r\n",
        "print(lin_score_train)\r\n",
        "print(lin_score_test)"
      ],
      "execution_count": null,
      "outputs": []
    },
    {
      "cell_type": "code",
      "metadata": {
        "id": "lvsX_8l7Fv5A"
      },
      "source": [
        "min_max_scaler = preprocessing.MinMaxScaler()\r\n",
        "\r\n",
        "# Normalize train data set \r\n",
        "data_set_before_normalize_1 = train_data_set[[\"region_encode\", \"release_year\", \"duration_in_min\",\t\"genres_encode\",\t\"numvotes\",\t\"primary_name_encode\", \"role_encode\", \"primaryprofession_encode\"]]\r\n",
        "data_set_before_normalize_2 = train_data_set[[\"region_encode\",  \"genres_encode\", \"primary_name_encode\", \"role_encode\", \"primaryprofession_encode\"]]\r\n",
        "data_set_before_normalize_3 = train_data_set[[\"release_year\", \"duration_in_min\",\"numvotes\",]]\r\n",
        "train_data_set_before_normalize = train_data_set[[\"region_encode\", \"release_year\", \"duration_in_min\",\t\"genres_encode\",\t\"numvotes\",\t\"primary_name_encode\", \"role_encode\", \"primaryprofession_encode\"]]"
      ],
      "execution_count": null,
      "outputs": []
    },
    {
      "cell_type": "code",
      "metadata": {
        "id": "hK-OujqvQigV"
      },
      "source": [
        "train_data_set_normalized = min_max_scaler.fit_transform(data_set_before_normalize_3)\r\n",
        "train_data_set_normalized_df = pd.DataFrame(data_set_before_normalize_2)\r\n",
        "\r\n",
        "# Normalize test data set\r\n",
        "test_data_set_before_normalize = test_data_set[[\"region_encode\", \"release_year\", \"duration_in_min\",\t\"genres_encode\",\t\"numvotes\",\t\"primary_name_encode\", \"role_encode\", \"primaryprofession_encode\"]]\r\n",
        "test_data_set_normalized = min_max_scaler.fit_transform(test_data_set_before_normalize)\r\n",
        "test_data_set_normalized_df = pd.DataFrame(test_data_set_normalized)"
      ],
      "execution_count": null,
      "outputs": []
    },
    {
      "cell_type": "code",
      "metadata": {
        "id": "v2GIC1P_NII-"
      },
      "source": [
        "X = train_data_set_normalized_df\r\n",
        "Y = train_data_set['rating']\r\n",
        "print(X.shape)\r\n",
        "print(Y.shape)\r\n",
        "(trainx,testx,trainy,testy) =  train_test_split(X,Y,test_size=0.30)\r\n",
        "print(\"trainx-->\",trainx.shape)\r\n",
        "print(\"testx-->\",testx.shape)\r\n",
        "print(\"trainy-->\",trainy.shape)\r\n",
        "print(\"trainx-->\",testy.shape)"
      ],
      "execution_count": null,
      "outputs": []
    },
    {
      "cell_type": "code",
      "metadata": {
        "colab": {
          "base_uri": "https://localhost:8080/"
        },
        "id": "f99VfzoYOZyO",
        "outputId": "948124b5-cc08-4ea7-cbd3-1818d3c02e7f"
      },
      "source": [
        "lin = LinearRegression()\r\n",
        "lin.fit(trainx,trainy)\r\n",
        "lin_score_train = lin.score(trainx,trainy)\r\n",
        "lin_score_test = lin.score(testx,testy)\r\n",
        "print(lin_score_train)\r\n",
        "print(lin_score_test)"
      ],
      "execution_count": null,
      "outputs": [
        {
          "output_type": "stream",
          "text": [
            "0.06958943228448589\n",
            "0.08030731341245201\n"
          ],
          "name": "stdout"
        }
      ]
    },
    {
      "cell_type": "code",
      "metadata": {
        "id": "nJH7VkPcRRtV",
        "colab": {
          "base_uri": "https://localhost:8080/"
        },
        "outputId": "6a0b447e-b523-4d93-9dfe-59d9f4968b00"
      },
      "source": [
        "lin.coef_"
      ],
      "execution_count": null,
      "outputs": [
        {
          "output_type": "execute_result",
          "data": {
            "text/plain": [
              "array([[ 5.44925283e-03, -8.85402628e-01,  8.75430966e+00,\n",
              "         4.61237007e-04,  6.21866204e+00,  1.51658003e-01]])"
            ]
          },
          "metadata": {
            "tags": []
          },
          "execution_count": 276
        }
      ]
    },
    {
      "cell_type": "code",
      "metadata": {
        "id": "yg6XHlOLVoHA"
      },
      "source": [
        ""
      ],
      "execution_count": null,
      "outputs": []
    }
  ]
}